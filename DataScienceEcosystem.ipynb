{
 "cells": [
  {
   "cell_type": "markdown",
   "id": "9197d0db",
   "metadata": {},
   "source": [
    "# Data Science Tools and Ecosystem\n"
   ]
  },
  {
   "cell_type": "markdown",
   "id": "c85817d9",
   "metadata": {},
   "source": [
    "## this notebook is about Data Science Tools and Ecosystem\n"
   ]
  },
  {
   "cell_type": "markdown",
   "id": "63a2011a",
   "metadata": {},
   "source": [
    "__Objectives__\n",
    "* some data science languages\n",
    "* some data science libraries\n",
    "* Data science Tools\n",
    "* examples of arthmetic expressions in python"
   ]
  },
  {
   "cell_type": "markdown",
   "id": "e45166ee",
   "metadata": {},
   "source": [
    "#### These Are some data science languages\n",
    "1. python\n",
    "2. R\n",
    "3. Sql\n",
    "4. Java\n",
    "5. C++"
   ]
  },
  {
   "cell_type": "markdown",
   "id": "f952783f",
   "metadata": {},
   "source": [
    "#### These are some data science libraries\n",
    "1. ggplot2\n",
    "2. tensorflow\n",
    "3. NumPy\n",
    "4. Pandas\n",
    "5. Scikit-learn\n",
    "6. Seaborn\n",
    "7. Matplotlib"
   ]
  },
  {
   "cell_type": "markdown",
   "id": "8e319f17",
   "metadata": {},
   "source": [
    "| Data science Tools |\n",
    "|--------------------|\n",
    "|        Jupyter     |\n",
    "|        RStudio     |\n",
    "|  Ibm watson studio |\n"
   ]
  },
  {
   "cell_type": "markdown",
   "id": "7c64fa8d",
   "metadata": {},
   "source": [
    "### There are a few examples of arthmetic expressions in python\n",
    "a+b  additon <br>\n",
    "a*b  multiply <br>\n",
    "a/b  dividing <br>\n"
   ]
  },
  {
   "cell_type": "code",
   "execution_count": 1,
   "id": "e4ef6655",
   "metadata": {},
   "outputs": [
    {
     "data": {
      "text/plain": [
       "17"
      ]
     },
     "execution_count": 1,
     "metadata": {},
     "output_type": "execute_result"
    }
   ],
   "source": [
    "#this is a simple arithmetic expression to multiply then add integers\n",
    "(3*4)+5"
   ]
  },
  {
   "cell_type": "code",
   "execution_count": 8,
   "id": "959db276",
   "metadata": {},
   "outputs": [
    {
     "name": "stdout",
     "output_type": "stream",
     "text": [
      "3.3333333333333335 hours\n"
     ]
    }
   ],
   "source": [
    "#this will convert 200 minutes to hours by dividing by 60\n",
    "print(200/60,\"hours\")"
   ]
  },
  {
   "cell_type": "markdown",
   "id": "92264899",
   "metadata": {},
   "source": [
    "## Author\n",
    "Yasmeen Abdallah"
   ]
  }
 ],
 "metadata": {
  "kernelspec": {
   "display_name": "Python 3 (ipykernel)",
   "language": "python",
   "name": "python3"
  },
  "language_info": {
   "codemirror_mode": {
    "name": "ipython",
    "version": 3
   },
   "file_extension": ".py",
   "mimetype": "text/x-python",
   "name": "python",
   "nbconvert_exporter": "python",
   "pygments_lexer": "ipython3",
   "version": "3.9.12"
  }
 },
 "nbformat": 4,
 "nbformat_minor": 5
}
